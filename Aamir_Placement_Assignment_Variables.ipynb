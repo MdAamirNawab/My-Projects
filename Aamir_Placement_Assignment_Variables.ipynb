{
  "nbformat": 4,
  "nbformat_minor": 0,
  "metadata": {
    "colab": {
      "provenance": []
    },
    "kernelspec": {
      "name": "python3",
      "display_name": "Python 3"
    },
    "language_info": {
      "name": "python"
    }
  },
  "cells": [
    {
      "cell_type": "code",
      "source": [
        "# Question 1 :  Write a Python program that asks the user to enter a\n",
        "# temperature and specify whether it's in Celsius or Fahrenheit, converts the temperature to the opposite unit\n",
        "\n",
        "temparature = float(input(\"Enter the temparature : \"))\n",
        "unit = input(\"Enter C for Celsius and F for Fahrenheit: \").strip().upper()\n",
        "\n",
        "if unit == \"F\":\n",
        "  celcius = (temparature - 32)* 5/9                                 # (32°F − 32) × 5/9 = 0°C\n",
        "  print(\"temparature is equal to\", celcius, \"celcius\")\n",
        "elif unit == \"C\":\n",
        "  fahrenheit = (temparature * 9/5) + 32                             # (0°C × 9/5) + 32 = 32°F\n",
        "  print(\"temparature is equal to\", fahrenheit, \"fahrenheit\")\n",
        "else:\n",
        "  print(\"Invalid unit, Enter C for Celsius and F for Fahrenheit\")\n"
      ],
      "metadata": {
        "id": "ekBh4ls6bkRz",
        "colab": {
          "base_uri": "https://localhost:8080/"
        },
        "outputId": "d1ae0d45-d93d-4025-d873-4666da25cacf"
      },
      "execution_count": 9,
      "outputs": [
        {
          "output_type": "stream",
          "name": "stdout",
          "text": [
            "Enter the temparature : 25\n",
            "Enter C for Celsius and F for Fahrenheit: v\n",
            "Invalid unit, Enter C for Celsius and F for Fahrenheit\n"
          ]
        }
      ]
    },
    {
      "cell_type": "code",
      "source": [
        "# Question 2 : Write a Python program to calculate the simple interest for a given principal amount,\n",
        "# rate of interest, and time by prompting the user for inputs, and outputting both the simple interest and the total amount.\n",
        "# SI = P × R × T / 100\n",
        "principle_amount = float(input(\"Enter the principle amount: \"))\n",
        "rate_of_interest = float(input(\"Enter rate of interest: \"))\n",
        "time = float(input(\"Enter time: \"))\n",
        "\n",
        "SI = (principle_amount * rate_of_interest * time) / 100\n",
        "total_amount = principle_amount + SI\n",
        "\n",
        "print(\"Simple interest is :\", SI)\n",
        "print(\"Total amount is\", total_amount)\n",
        "\n"
      ],
      "metadata": {
        "id": "Io28kj1pcUOZ",
        "colab": {
          "base_uri": "https://localhost:8080/"
        },
        "outputId": "00a7e921-553c-402a-de51-35dc1119a5b5"
      },
      "execution_count": 10,
      "outputs": [
        {
          "output_type": "stream",
          "name": "stdout",
          "text": [
            "Enter the principle amount: 50\n",
            "Enter rate of interest: 5\n",
            "Enter time: 12\n",
            "Simple interest is : 30.0\n",
            "Total amount is 80.0\n"
          ]
        }
      ]
    },
    {
      "cell_type": "code",
      "source": [
        "# Question 3 : Write a Python program that asks the user to enter an amount in their home currency (e.g., USD),\n",
        "# asks for the target currency (e.g., EUR), uses predefined conversion rates to calculate the equivalent amount,\n",
        "# and outputs the converted amount in the target currency.\n",
        "\n",
        "exchange_rates = {\n",
        "    \"USD\": {\"EUR\": 0.85, \"GBP\": 0.75, \"INR\": 74.5},\n",
        "    \"EUR\": {\"USD\": 1.18, \"GBP\": 0.88, \"INR\": 87.6},\n",
        "    \"GBP\": {\"USD\": 1.33, \"EUR\": 1.14, \"INR\": 99.3},\n",
        "    \"INR\": {\"USD\": 0.013, \"EUR\": 0.011, \"GBP\": 0.010}\n",
        "}\n",
        "amount = float(input(\"Enter the amount: \"))\n",
        "from_currency = input(\"Enter your home currency (USD,EUR,GBP,INR) : \").strip().upper()\n",
        "to_currency = input(\"Enter your target currency (USD,EUR,GBP,INR) : \").strip().upper()\n",
        "\n",
        "# Convert currency\n",
        "if from_currency in exchange_rates and to_currency in exchange_rates[from_currency]:\n",
        "    converted_amount = amount * exchange_rates[from_currency][to_currency]\n",
        "    print(amount,from_currency,\"is converted to\", to_currency, \"and the converted amount is\",converted_amount)\n",
        "else:\n",
        "    print(\"Invalid currency or conversion not available.\")"
      ],
      "metadata": {
        "id": "wz03EG9Kc6aq",
        "colab": {
          "base_uri": "https://localhost:8080/"
        },
        "outputId": "33d8aae2-bb88-4f8e-b81f-a9eaa8fba694"
      },
      "execution_count": 13,
      "outputs": [
        {
          "output_type": "stream",
          "name": "stdout",
          "text": [
            "Enter the amount: 40\n",
            "Enter your home currency (USD,EUR,GBP,INR) : usd\n",
            "Enter your target currency (USD,EUR,GBP,INR) : inr\n",
            "40.0 USD is converted to INR and the converted amount is 2980.0\n"
          ]
        }
      ]
    },
    {
      "cell_type": "code",
      "source": [
        "# Question 4 : Write a Python program that asks for the user's weight (kg) and height (m),\n",
        "# calculates the BMI , and outputs the BMI with a category (underweight, normal weight, overweight, or obese)\n",
        "#  based on standard thresholds.\n",
        "\n",
        "# Metric units: BMI = weight (kg) / height (m)^2 # Feet = Meters×3.28084\n",
        "\n",
        "# A normal body mass index (BMI) for adults is between 18.5 and 24.9.\n",
        "\n",
        "weight = float(input(\"Enter your weight in KGs: \"))\n",
        "height = float(input(\"Enter you height in meters: \"))\n",
        "\n",
        "bmi = weight / (height ** 2)\n",
        "if bmi < 18.5:\n",
        "  print(\"underweight\")\n",
        "elif bmi >=18.5 or bmi <=24.9:\n",
        "  print(\"Normal Weight\")\n",
        "elif bmi > 24.9 or bmi > 25:\n",
        "  print(\"overweight\")\n",
        "else:\n",
        "  print(\"obese\")"
      ],
      "metadata": {
        "id": "Dz1k-1rcdkRT",
        "colab": {
          "base_uri": "https://localhost:8080/"
        },
        "outputId": "3ab18f32-2fe2-4fdb-ea5d-509b0afe902d"
      },
      "execution_count": 19,
      "outputs": [
        {
          "output_type": "stream",
          "name": "stdout",
          "text": [
            "Enter your weight in KGs: 50\n",
            "Enter you height in meters: 3\n",
            "underweight\n"
          ]
        }
      ]
    },
    {
      "cell_type": "code",
      "source": [
        "# Question 5 : Write a Python program to convert a user-input distance between miles and kilometers\n",
        "# and output the converted distance using the conversion factors 1 mile = 1.60934 kilometers and 1 kilometer = 0.621371 miles.\n",
        "\n",
        "distance = float(input(\"Enter the distance: \"))\n",
        "unit = input(\"Enter K for kilometers and M for Miles: \").strip().upper()\n",
        "\n",
        "if unit == \"M\":\n",
        "  kilometer = distance * 1.60934\n",
        "  print(distance, \"miles is equal to\",kilometer,\"kms\")\n",
        "elif unit == \"K\":\n",
        "  miles = distance * 0.621371\n",
        "  print(distance, \"kms is equal to\",miles,\"miles\")\n",
        "else:\n",
        "  print(\"Invalid input, enter  K for kilometers and M for Miles\")\n"
      ],
      "metadata": {
        "id": "4ct-l3Evfkcj",
        "colab": {
          "base_uri": "https://localhost:8080/"
        },
        "outputId": "ad812d83-20a6-463b-a3ea-290740d19160"
      },
      "execution_count": 24,
      "outputs": [
        {
          "output_type": "stream",
          "name": "stdout",
          "text": [
            "Enter the distance: 50\n",
            "Enter K for kilometers and M for Miles: l\n",
            "Invalid input, enter  K for kilometers and M for Miles\n"
          ]
        }
      ]
    }
  ]
}