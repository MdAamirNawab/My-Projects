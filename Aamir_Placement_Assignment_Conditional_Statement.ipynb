{
  "nbformat": 4,
  "nbformat_minor": 0,
  "metadata": {
    "colab": {
      "provenance": []
    },
    "kernelspec": {
      "name": "python3",
      "display_name": "Python 3"
    },
    "language_info": {
      "name": "python"
    }
  },
  "cells": [
    {
      "cell_type": "code",
      "source": [
        "# Question 1 : Write a program that takes the current temperature and provides clothing advice\n",
        "temp = float(input(\"Enter temparature: \"))\n",
        "\n",
        "if temp >= 18 and temp <=28:\n",
        "  print(\"Weather is moderate, wear normal clothes.\")\n",
        "elif temp >28:\n",
        "  print(\"Weather is hot, wear light clothes.\")\n",
        "else:\n",
        "  print(\"Weather is cold, wear warm clothes.\")"
      ],
      "metadata": {
        "id": "UmQoIV5XhPYN",
        "colab": {
          "base_uri": "https://localhost:8080/"
        },
        "outputId": "75f8055a-1106-42c6-9dc9-63161d5ffc12"
      },
      "execution_count": 4,
      "outputs": [
        {
          "output_type": "stream",
          "name": "stdout",
          "text": [
            "Enter temparature: 17\n",
            "Weather is cold, wear warm clothes.\n"
          ]
        }
      ]
    },
    {
      "cell_type": "code",
      "source": [
        "# Question 2 : Create a program that determines if an applicant qualifies for a loan based on their\n",
        "# salary and years at their current job.\n",
        "salary = float(input(\"Enter your salary: \"))\n",
        "tenure = float(input(\"Enter years at your current job: \"))\n",
        "\n",
        "if salary >= 40000 and tenure >= 2:\n",
        "  print(\"You are eligible for loan\")\n",
        "else:\n",
        "  print(\"You have to earn minimum 40000 per month and you should be working minimum for 2 years at your current company to be eligible for loan\")"
      ],
      "metadata": {
        "id": "aJbWqpcEhe06",
        "colab": {
          "base_uri": "https://localhost:8080/"
        },
        "outputId": "cd1ddcc0-b6a6-41cf-a780-b95f4fd01a99"
      },
      "execution_count": 6,
      "outputs": [
        {
          "output_type": "stream",
          "name": "stdout",
          "text": [
            "Enter your salary: 55000\n",
            "Enter years at your current job: 1.5\n",
            "You have to earn minimum 40000 per month and you should be working minimum for 2 years at your current company to be eligible for loan\n"
          ]
        }
      ]
    },
    {
      "cell_type": "code",
      "source": [
        "# Question 3 : Develop a script that assigns grades to students based on their score.\n",
        "marks = float(input(\"Enter marks between 1 to 100: \"))\n",
        "if marks >= 90:\n",
        "  print(\" Grade A\")\n",
        "elif marks >= 70 and marks <=89:\n",
        "  print(\"Grade B\")\n",
        "elif marks >= 40 and marks <=69:\n",
        "  print(\"Grade C\")\n",
        "else:\n",
        "  print(\"Fail\")\n"
      ],
      "metadata": {
        "id": "RFYEb6zbhw2_",
        "colab": {
          "base_uri": "https://localhost:8080/"
        },
        "outputId": "74b5b1ab-2aad-42cf-b636-c079287f2fdc"
      },
      "execution_count": 9,
      "outputs": [
        {
          "output_type": "stream",
          "name": "stdout",
          "text": [
            "Enter marks between 1 to 100: 39\n",
            "Fail\n"
          ]
        }
      ]
    },
    {
      "cell_type": "code",
      "source": [
        "#Question 4 :  Write a Python script that asks for the number of items and the price per item,\n",
        "# then calculates and prints the total cost with a 10% discount for 10 or more items, or a 20% discount for 20 or more items.\n",
        "\n",
        "num_items = int(input(\"Enter number of items: \"))\n",
        "price_per_item = float(input(\"Enter price per item: \"))\n",
        "\n",
        "total_cost = num_items * price_per_item\n",
        "\n",
        "if num_items >= 10 and num_items <20:\n",
        "  final_cost = total_cost - (total_cost * 0.10)\n",
        "  print(\"After giving discount on\",total_cost,\"the total cost is\",final_cost)\n",
        "elif num_items >= 20:\n",
        "  final_cost = total_cost - (total_cost * 0.20)\n",
        "  print(\"After giving discount on\",total_cost,\"the total cost is\",final_cost)\n",
        "else:\n",
        "  print(\"No discount available, total cost is\", total_cost)"
      ],
      "metadata": {
        "id": "OyDbtBE_jWWg",
        "colab": {
          "base_uri": "https://localhost:8080/"
        },
        "outputId": "7ae19b2d-c865-4a44-9743-d72f5a43502b"
      },
      "execution_count": 25,
      "outputs": [
        {
          "output_type": "stream",
          "name": "stdout",
          "text": [
            "Enter number of items: 20\n",
            "Enter price per item: 10\n",
            "After giving discount on 200.0 the total cost is 160.0\n"
          ]
        }
      ]
    },
    {
      "cell_type": "code",
      "source": [],
      "metadata": {
        "id": "o__-pFA9tb1O"
      },
      "execution_count": 20,
      "outputs": []
    },
    {
      "cell_type": "code",
      "source": [
        "# Question 5 : Write a Python script that inputs the time (24-hour format) and the customer's age, then prints the ticket price.\n",
        "# Ticket prices are as follows:\n",
        "# Regular hours (before 5 PM): $12 for adults, $8 for seniors (60+), $5 for children (under 12).\n",
        "# Evening hours (5 PM and later): $15 for adults, $10 for seniors, $8 for children.\n",
        "\n",
        "time = float(input(\"Enter time in 24 hour format: \"))\n",
        "age = float(input(\"Enter your age: \"))\n",
        "\n",
        "if time >=9 and time < 17:\n",
        "  if age >= 60:\n",
        "    print(\"Ticket price is $8\")\n",
        "  elif age < 12:\n",
        "    print(\"Ticket price is $5\")\n",
        "  else:\n",
        "    print(\"Ticket price is $12\")\n",
        "elif time >= 17 and time < 24:\n",
        "  if age >= 60:\n",
        "    print(\"Ticket price is $10\")\n",
        "  elif age < 12:\n",
        "    print(\"Ticket price is $8\")\n",
        "  else:\n",
        "    print(\"Ticket price is $15\")\n",
        "else:\n",
        "  print(\"Ticket is not available. Come between 9 to 24\")\n"
      ],
      "metadata": {
        "id": "YBirSUpYjj2n",
        "colab": {
          "base_uri": "https://localhost:8080/"
        },
        "outputId": "d9bbd4d4-1b0d-4ac0-a7b4-95ffecad9dc2"
      },
      "execution_count": 35,
      "outputs": [
        {
          "output_type": "stream",
          "name": "stdout",
          "text": [
            "Enter time in 24 hour format: 23\n",
            "Enter your age: 40\n",
            "Ticket price is $15\n"
          ]
        }
      ]
    }
  ]
}