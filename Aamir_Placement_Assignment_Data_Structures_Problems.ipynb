{
  "nbformat": 4,
  "nbformat_minor": 0,
  "metadata": {
    "colab": {
      "provenance": []
    },
    "kernelspec": {
      "name": "python3",
      "display_name": "Python 3"
    },
    "language_info": {
      "name": "python"
    }
  },
  "cells": [
    {
      "cell_type": "code",
      "source": [
        "# 1. Given a list of dictionaries representing employees (with `name`, `age`, and `department`),\n",
        "# write code to group employees by their department and calculate the average age for each department.\n",
        "\n",
        "employees = [\n",
        "    {\"name\": \"Alice\", \"age\": 30, \"department\": \"HR\"},\n",
        "    {\"name\": \"Bob\", \"age\": 24, \"department\": \"Engineering\"},\n",
        "    {\"name\": \"Charlie\", \"age\": 29, \"department\": \"HR\"},\n",
        "    {\"name\": \"David\", \"age\": 35, \"department\": \"Engineering\"},\n",
        "    {\"name\": \"Eve\", \"age\": 28, \"department\": \"Marketing\"}\n",
        "]\n",
        "\n",
        "# Empty dictionary to store department-wise total age and count\n",
        "department_data = {}\n",
        "\n",
        "# Loop through employees to group by department\n",
        "for emp in employees:\n",
        "    dept = emp[\"department\"]\n",
        "    age = emp[\"age\"]\n",
        "\n",
        "    if dept in department_data:\n",
        "        department_data[dept][\"total_age\"] += age\n",
        "        department_data[dept][\"count\"] += 1\n",
        "    else:\n",
        "        department_data[dept] = {\"total_age\": age, \"count\": 1}\n",
        "\n",
        "# Dictionary to store the final average ages\n",
        "average_ages = {}\n",
        "\n",
        "# Loop through department_data to calculate average\n",
        "for dept in department_data:\n",
        "    total_age = department_data[dept][\"total_age\"]\n",
        "    count = department_data[dept][\"count\"]\n",
        "    average_ages[dept] = total_age / count  # Calculate average age\n",
        "\n",
        "# Print the result\n",
        "print(average_ages)\n"
      ],
      "metadata": {
        "id": "q9-dMjieve7j",
        "colab": {
          "base_uri": "https://localhost:8080/"
        },
        "outputId": "fd6aa9ca-7946-4018-d41c-efb38bb5c6b4"
      },
      "execution_count": 3,
      "outputs": [
        {
          "output_type": "stream",
          "name": "stdout",
          "text": [
            "{'HR': 29.5, 'Engineering': 29.5, 'Marketing': 28.0}\n"
          ]
        }
      ]
    },
    {
      "cell_type": "code",
      "source": [],
      "metadata": {
        "id": "IugIzMNdvnSp",
        "colab": {
          "base_uri": "https://localhost:8080/"
        },
        "outputId": "76b670c7-4f90-4e46-ab89-dbe1cca689c9"
      },
      "execution_count": 3,
      "outputs": [
        {
          "output_type": "stream",
          "name": "stdout",
          "text": [
            "{'HR': 29.5, 'Engineering': 29.5, 'Marketing': 28.0}\n"
          ]
        }
      ]
    },
    {
      "cell_type": "code",
      "source": [
        "employees = [\n",
        "    {\"name\": \"Alice\", \"age\": 30, \"department\": \"HR\"},\n",
        "    {\"name\": \"Bob\", \"age\": 24, \"department\": \"Engineering\"},\n",
        "    {\"name\": \"Charlie\", \"age\": 29, \"department\": \"HR\"},\n",
        "    {\"name\": \"David\", \"age\": 35, \"department\": \"Engineering\"},\n",
        "    {\"name\": \"Eve\", \"age\": 28, \"department\": \"Marketing\"}\n",
        "]\n",
        "\n",
        "my_dict = {}\n",
        "\n",
        "for emp in employees:\n",
        "  department = emp[\"department\"]\n",
        "  age = emp[\"age\"]\n",
        "\n",
        "  if department not in my_dict:\n",
        "    my_dict[department] = []\n",
        "\n",
        "  my_dict[department].append(age)\n",
        "\n",
        "for department, age in my_dict.items():\n",
        "    avg_age = sum(age) / len(age)\n",
        "    print(\"Department is\", department, \"Average Age\", avg_age)"
      ],
      "metadata": {
        "id": "kUGiHeyUvnlW",
        "colab": {
          "base_uri": "https://localhost:8080/"
        },
        "outputId": "f350fe4e-f586-4e17-97af-7e4c4d0b32f7"
      },
      "execution_count": 6,
      "outputs": [
        {
          "output_type": "stream",
          "name": "stdout",
          "text": [
            "Department is HR Average Age 29.5\n",
            "Department is Engineering Average Age 29.5\n",
            "Department is Marketing Average Age 28.0\n"
          ]
        }
      ]
    },
    {
      "cell_type": "code",
      "source": [
        "# 2. - Given two sets of integers, write code to find the symmetric difference (elements present in one set but not the other)\n",
        "#  and then filter out all even numbers from the result.\n",
        "\n",
        "set1 = {1, 2, 3, 4, 5}\n",
        "set2 = {4, 5, 6, 7, 8}\n",
        "\n",
        "# Find the symmetric difference (elements in one set but not both)\n",
        "sym_diff = set1 ^ set2  # Equivalent to set1.symmetric_difference(set2)\n",
        "\n",
        "for i in sym_diff:\n",
        "  if i % 2 == 0:\n",
        "    print(i, end = \" \")"
      ],
      "metadata": {
        "id": "RSd0cSlZvKb9",
        "colab": {
          "base_uri": "https://localhost:8080/"
        },
        "outputId": "72402ccb-82d2-472c-af1c-44681bd92e8e"
      },
      "execution_count": 15,
      "outputs": [
        {
          "output_type": "stream",
          "name": "stdout",
          "text": [
            "2 6 8 "
          ]
        }
      ]
    },
    {
      "cell_type": "code",
      "source": [],
      "metadata": {
        "id": "jTRdku4evoYi"
      },
      "execution_count": null,
      "outputs": []
    },
    {
      "cell_type": "code",
      "source": [
        "# 3. Given a dictionary where keys are strings and values are lists of dictionaries\n",
        " # (each containing `name` and `score`), write code to find the highest score in each list\n",
        " #  and return a dictionary with these highest scores.\n",
        "\n",
        "data = {\n",
        "       \"class1\": [{\"name\": \"Alice\", \"score\": 85}, {\"name\": \"Bob\", \"score\": 92}],\n",
        "       \"class2\": [{\"name\": \"Charlie\", \"score\": 88}, {\"name\": \"David\", \"score\": 79}]\n",
        "   }\n",
        "\n",
        "# Dictionary to store highest scores\n",
        "highest_scores = {}\n",
        "\n",
        "# Loop through each class and directly get the max score\n",
        "for i in data:\n",
        "    highest_scores[i] = max(student[\"score\"] for student in data[i])\n",
        "\n",
        "print(highest_scores)"
      ],
      "metadata": {
        "id": "r-E1CNgeu6yr",
        "colab": {
          "base_uri": "https://localhost:8080/"
        },
        "outputId": "b908750d-f90c-4373-b7bc-e3c9d45f4043"
      },
      "execution_count": 16,
      "outputs": [
        {
          "output_type": "stream",
          "name": "stdout",
          "text": [
            "{'class1': 92, 'class2': 88}\n"
          ]
        }
      ]
    },
    {
      "cell_type": "code",
      "source": [],
      "metadata": {
        "id": "n6RH9Da7vpIJ"
      },
      "execution_count": null,
      "outputs": []
    },
    {
      "cell_type": "code",
      "source": [
        "# 4. Given a list of tuples representing product sales (with `product_name`, `quantity_sold`, and `price_per_unit`),\n",
        "#  write code to calculate the total sales for each product and return a dictionary with the product names as keys and\n",
        "# total sales as values.\n",
        "\n",
        "sales = [\n",
        "    (\"Product1\", 10, 2.5),\n",
        "    (\"Product2\", 5, 4.0),\n",
        "    (\"Product1\", 7, 2.5),\n",
        "    (\"Product3\", 3, 6.0)\n",
        "]\n",
        "\n",
        "# Dictionary to store total sales per product\n",
        "total_sales = {}\n",
        "\n",
        "# Loop through each sale record\n",
        "for product, quantity, price in sales:\n",
        "    # Calculate sales amount\n",
        "    sales_amount = quantity * price\n",
        "\n",
        "    # Add to dictionary, if product exists add to existing value\n",
        "    if product in total_sales:\n",
        "        total_sales[product] += sales_amount\n",
        "    else:\n",
        "        total_sales[product] = sales_amount\n",
        "\n",
        "# Print the final dictionary with total sales per product\n",
        "print(total_sales)"
      ],
      "metadata": {
        "id": "IoWEllINugQ-",
        "colab": {
          "base_uri": "https://localhost:8080/"
        },
        "outputId": "9de6809c-682d-4684-93f3-3c53afa76b33"
      },
      "execution_count": 24,
      "outputs": [
        {
          "output_type": "stream",
          "name": "stdout",
          "text": [
            "{'Product1': 42.5, 'Product2': 20.0, 'Product3': 18.0}\n"
          ]
        }
      ]
    },
    {
      "cell_type": "code",
      "source": [],
      "metadata": {
        "id": "PuPsy5Ntvp2d"
      },
      "execution_count": null,
      "outputs": []
    },
    {
      "cell_type": "code",
      "source": [
        "# 5. Given a list of strings representing logs, where each log entry is in the\n",
        "# format `\"date: event\"`, write code to count the occurrences of each event and\n",
        "# return a dictionary with the event names as keys and their counts as values.\n",
        "\n",
        "logs = [\n",
        "       \"2023-05-01: login\",\n",
        "       \"2023-05-01: logout\",\n",
        "       \"2023-05-02: login\",\n",
        "       \"2023-05-02: login\",\n",
        "       \"2023-05-03: logout\"\n",
        "   ]\n",
        "\n",
        "event_counts = {}\n",
        "\n",
        "# Iterate through the logs\n",
        "for log in logs:\n",
        "    # Split the log entry to get the event\n",
        "    event = log.split(\": \")[1]\n",
        "    # Increment the count for the event\n",
        "    if event in event_counts:\n",
        "        event_counts[event] += 1\n",
        "    else:\n",
        "        event_counts[event] = 1\n",
        "\n",
        "# Print the result\n",
        "print(event_counts)"
      ],
      "metadata": {
        "id": "mjfw4wDnuRE4",
        "colab": {
          "base_uri": "https://localhost:8080/"
        },
        "outputId": "e3dad27f-444c-4ddc-dbad-3eb74d375205"
      },
      "execution_count": 2,
      "outputs": [
        {
          "output_type": "stream",
          "name": "stdout",
          "text": [
            "{'login': 3, 'logout': 2}\n"
          ]
        }
      ]
    },
    {
      "cell_type": "code",
      "source": [],
      "metadata": {
        "id": "nIVOWhuSvqf1"
      },
      "execution_count": null,
      "outputs": []
    },
    {
      "cell_type": "code",
      "source": [
        "# 6. Given a list of numbers, write code to filter out all prime numbers and then\n",
        "# return the sum of the remaining numbers.\n",
        "\n",
        "numbers = [10, 15, 3, 7, 18, 21, 2, 5, 30]\n",
        "\n",
        "sum_non_prime = 0  # Variable to store the sum of non-prime numbers\n",
        "\n",
        "for num in numbers:\n",
        "    if num > 1 and (num == 2 or num == 3 or num % 2 != 0 and num % 3 != 0):  # Check if prime\n",
        "        continue  # Skip prime numbers\n",
        "    sum_non_prime += num  # Add non-prime numbers to sum\n",
        "\n",
        "print(\"Sum of non-prime numbers:\", sum_non_prime)"
      ],
      "metadata": {
        "id": "V-vEIXBVuHQq",
        "colab": {
          "base_uri": "https://localhost:8080/"
        },
        "outputId": "3961e83d-e698-455b-a738-104a28bd670a"
      },
      "execution_count": 7,
      "outputs": [
        {
          "output_type": "stream",
          "name": "stdout",
          "text": [
            "Sum of non-prime numbers: 94\n"
          ]
        }
      ]
    },
    {
      "cell_type": "code",
      "source": [
        "# 3. Given a dictionary where keys are strings and values are lists of dictionaries\n",
        " # (each containing `name` and `score`), write code to find the highest score in each list\n",
        " #  and return a dictionary with these highest scores.\n",
        "\n",
        "data = {\n",
        "       \"class1\": [{\"name\": \"Alice\", \"score\": 85}, {\"name\": \"Bob\", \"score\": 92}],\n",
        "       \"class2\": [{\"name\": \"Charlie\", \"score\": 88}, {\"name\": \"David\", \"score\": 79}]\n",
        "   }\n",
        "\n",
        "# Dictionary to store highest scores\n",
        "highest_scores = {}\n",
        "\n",
        "# Loop through each class and directly get the max score\n",
        "for i in data:\n",
        "    highest_scores[i] = max(student[\"score\"] for student in data[i])\n",
        "\n",
        "print(highest_scores)"
      ],
      "metadata": {
        "id": "TVl5Iy7RvrQi"
      },
      "execution_count": null,
      "outputs": []
    },
    {
      "cell_type": "code",
      "source": [
        "# 7. Given a dictionary representing a company's hierarchy, where keys are department\n",
        "# names and values are dictionaries with employee names as keys and their salaries as values,\n",
        "# write code to find the department with the highest average salary.\n",
        "\n",
        "hierarchy = {\n",
        "       \"HR\": {\"Alice\": 70000, \"Bob\": 80000},\n",
        "       \"Engineering\": {\"Charlie\": 90000, \"David\": 95000},\n",
        "       \"Marketing\": {\"Eve\": 75000, \"Frank\": 70000}\n",
        "   }\n",
        "\n",
        "salary = {}\n",
        "\n",
        "for i in hierarchy:\n",
        "  salary[i] = sum(hierarchy[i].values()) / len(hierarchy[i])\n",
        "\n",
        "max_sal = max(salary.values())\n",
        "\n",
        "\n",
        "print(\"highest average salary is:\", max_sal, \"for department is:\", max(salary.keys()))\n"
      ],
      "metadata": {
        "id": "eAb4X8kqt7pf",
        "colab": {
          "base_uri": "https://localhost:8080/"
        },
        "outputId": "4a8e1135-ef1f-43b5-b252-ea1053e771f7"
      },
      "execution_count": 11,
      "outputs": [
        {
          "output_type": "stream",
          "name": "stdout",
          "text": [
            "highest average salary is: 92500.0 for department is: Marketing\n"
          ]
        }
      ]
    },
    {
      "cell_type": "code",
      "source": [
        "hierarchy = {\n",
        "       \"HR\": {\"Alice\": 70000, \"Bob\": 80000},\n",
        "       \"Engineering\": {\"Charlie\": 90000, \"David\": 95000},\n",
        "       \"Marketing\": {\"Eve\": 75000, \"Frank\": 70000}\n",
        "   }\n",
        "\n",
        "salary = {}\n",
        "\n",
        "# Calculate average salary for each department\n",
        "for dept in hierarchy:\n",
        "    total_salary = sum(hierarchy[dept].values())\n",
        "    num_employees = len(hierarchy[dept])\n",
        "    salary[dept] = total_salary / num_employees\n",
        "\n",
        "# Find department with the highest average salary\n",
        "highest_dept = max(salary, key=salary.get)\n",
        "max_sal = salary[highest_dept]\n",
        "\n",
        "print(\"Highest average salary is:\", max_sal, \"for department:\", highest_dept)\n"
      ],
      "metadata": {
        "id": "0-eCZdH-vsBg",
        "colab": {
          "base_uri": "https://localhost:8080/"
        },
        "outputId": "84e9266e-0d07-4800-c0b5-d8798527a9d3"
      },
      "execution_count": 13,
      "outputs": [
        {
          "output_type": "stream",
          "name": "stdout",
          "text": [
            "Highest average salary is: 92500.0 for department: Engineering\n",
            "2\n"
          ]
        }
      ]
    },
    {
      "cell_type": "code",
      "source": [],
      "metadata": {
        "id": "SNfcldOLvsER"
      },
      "execution_count": null,
      "outputs": []
    },
    {
      "cell_type": "code",
      "source": [
        "# 8. Given a list of words, write code to find all unique anagrams in the list. An anagram\n",
        "#  is a word formed by rearranging the letters of another word.\n",
        "\n",
        "words = [\"listen\", \"silent\", \"enlist\", \"google\", \"elgoog\", \"rat\", \"tar\", \"art\"]\n",
        "\n",
        "anagrams = {}  # Dictionary to store anagram groups\n",
        "unique_anagrams = []  # List to store only valid anagram groups\n",
        "\n",
        "for word in words:\n",
        "    sorted_word = \"\".join(sorted(word))  # Convert word into its sorted form\n",
        "\n",
        "    if sorted_word in anagrams:\n",
        "        anagrams[sorted_word].append(word)  # Add to existing anagram group\n",
        "        if anagrams[sorted_word] not in unique_anagrams:\n",
        "            unique_anagrams.append(anagrams[sorted_word])  # Add only once\n",
        "    else:\n",
        "        anagrams[sorted_word] = [word]  # Start a new anagram group\n",
        "\n",
        "print(\"Unique anagrams:\", unique_anagrams)"
      ],
      "metadata": {
        "id": "BmCkCEuztwm-",
        "colab": {
          "base_uri": "https://localhost:8080/"
        },
        "outputId": "3d313d92-e64b-4eaf-d546-4ce455d1d0c1"
      },
      "execution_count": 1,
      "outputs": [
        {
          "output_type": "stream",
          "name": "stdout",
          "text": [
            "Unique anagrams: [['listen', 'silent', 'enlist'], ['google', 'elgoog'], ['rat', 'tar', 'art']]\n"
          ]
        }
      ]
    },
    {
      "cell_type": "code",
      "source": [],
      "metadata": {
        "id": "jTsEz2YfvsyK"
      },
      "execution_count": null,
      "outputs": []
    },
    {
      "cell_type": "code",
      "source": [
        "# 9. Given a matrix (list of lists) of integers, write code to find and return the transpose\n",
        "# of the matrix. The transpose of a matrix is obtained by swapping rows and columns.\n",
        "\n",
        "\n",
        "matrix = [\n",
        "       [1, 2, 3],\n",
        "       [4, 5, 6],\n",
        "       [7, 8, 9]\n",
        "   ]\n",
        "\n",
        "rows = len(matrix)     # Number of rows\n",
        "cols = len(matrix[0])  # Number of columns\n",
        "\n",
        "# Transpose matrix using direct indexing (column-first approach)\n",
        "transpose = [[matrix[r][c] for r in range(rows)] for c in range(cols)]\n",
        "\n",
        "print(\"Transpose of the matrix:\", transpose)"
      ],
      "metadata": {
        "id": "xhvdQueAtjo-",
        "colab": {
          "base_uri": "https://localhost:8080/"
        },
        "outputId": "2c9af448-39ab-45e9-9126-dc4c96991be7"
      },
      "execution_count": 1,
      "outputs": [
        {
          "output_type": "stream",
          "name": "stdout",
          "text": [
            "Transpose of the matrix: [[1, 4, 7], [2, 5, 8], [3, 6, 9]]\n"
          ]
        }
      ]
    },
    {
      "cell_type": "code",
      "source": [],
      "metadata": {
        "id": "bSNQPTLsvtes"
      },
      "execution_count": null,
      "outputs": []
    },
    {
      "cell_type": "code",
      "source": [
        " # 10. Given a string, write code to count the frequency of each character (excluding spaces) and\n",
        " #return a dictionary with characters as keys and their frequencies as values.\n",
        "\n",
        "text = \"hello world\"\n",
        "\n",
        "text = \"hello world\"\n",
        "char_count = {}  # Dictionary to store character frequencies\n",
        "\n",
        "for char in text:\n",
        "    if char != \" \":  # Exclude spaces\n",
        "      if char in char_count:\n",
        "          char_count[char] += 1  # Increment count if character exists   Character frequencies: {'h': 1, 'e': 1, 'l': 3, 'o': 2, 'w': 1, 'r': 1, 'd': 1}\n",
        "      else:\n",
        "          char_count[char] = 1  # Initialize count for new character\n",
        "\n",
        "print(\"Character frequencies:\", char_count)"
      ],
      "metadata": {
        "id": "PsNG6dy0tbKk",
        "colab": {
          "base_uri": "https://localhost:8080/"
        },
        "outputId": "b2a8223d-c453-4e99-c5bc-1ae6ffb149d7"
      },
      "execution_count": 4,
      "outputs": [
        {
          "output_type": "stream",
          "name": "stdout",
          "text": [
            "Character frequencies: {'h': 1, 'e': 1, 'l': 3, 'o': 2, 'w': 1, 'r': 1, 'd': 1}\n"
          ]
        }
      ]
    },
    {
      "cell_type": "code",
      "source": [],
      "metadata": {
        "id": "h2XtUsUKvuFY"
      },
      "execution_count": null,
      "outputs": []
    },
    {
      "cell_type": "code",
      "source": [],
      "metadata": {
        "id": "VDIN-Zk8vuIJ"
      },
      "execution_count": null,
      "outputs": []
    }
  ]
}