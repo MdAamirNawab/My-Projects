{
  "nbformat": 4,
  "nbformat_minor": 0,
  "metadata": {
    "colab": {
      "provenance": []
    },
    "kernelspec": {
      "name": "python3",
      "display_name": "Python 3"
    },
    "language_info": {
      "name": "python"
    }
  },
  "cells": [
    {
      "cell_type": "code",
      "source": [
        "# Question 1 : Find and print duplicate elements in a list.\n",
        "\n",
        "numbers = [1, 2, 3, 4, 5, 3, 2, 1, 6]\n",
        "duplicates = []\n",
        "\n",
        "# Check for duplicates using a loop\n",
        "for i in numbers:\n",
        "    if numbers.count(i) > 1 and i not in duplicates:\n",
        "        duplicates.append(i)\n",
        "\n",
        "# Print duplicate elements\n",
        "print(\"Duplicate elements:\", duplicates)\n"
      ],
      "metadata": {
        "id": "ZbvleGWzikWp",
        "colab": {
          "base_uri": "https://localhost:8080/"
        },
        "outputId": "3fe0abcd-ba86-4e4f-bad0-26f22600de31"
      },
      "execution_count": 2,
      "outputs": [
        {
          "output_type": "stream",
          "name": "stdout",
          "text": [
            "Duplicate elements: [1, 2, 3]\n"
          ]
        }
      ]
    },
    {
      "cell_type": "code",
      "source": [
        "# Question 2 : Find and print the second largest number in a list.\n",
        "numbers = [1, 3, 4, 5, 0, 2, 6, 7, 8]\n",
        "\n",
        "numbers.sort()\n",
        "second_largest = numbers[-2]\n",
        "print(second_largest)"
      ],
      "metadata": {
        "id": "ZX9Ryb0Nhwic",
        "colab": {
          "base_uri": "https://localhost:8080/"
        },
        "outputId": "d26b1c56-abe5-4b4a-cc38-46fed81c4bb2"
      },
      "execution_count": 31,
      "outputs": [
        {
          "output_type": "stream",
          "name": "stdout",
          "text": [
            "7\n"
          ]
        }
      ]
    },
    {
      "cell_type": "code",
      "source": [
        "numbers = [1, 3, 4, 5, 0, 2, 6, 7, 8]\n",
        "\n",
        "largest = max(numbers)  # Find the largest number\n",
        "second_largest = max(num for num in numbers if num != largest)  # Find the largest number excluding the max\n",
        "\n",
        "print(\"Second largest number:\", second_largest)"
      ],
      "metadata": {
        "colab": {
          "base_uri": "https://localhost:8080/"
        },
        "id": "8U_p4lMnfA0K",
        "outputId": "d315b8d9-431a-4f65-f067-23cc263f8269"
      },
      "execution_count": 34,
      "outputs": [
        {
          "output_type": "stream",
          "name": "stdout",
          "text": [
            "Second largest number: 7\n"
          ]
        }
      ]
    },
    {
      "cell_type": "code",
      "source": [
        "# Question 3 : Generate and print the first 10 numbers in the Fibonacci sequence.\n",
        "\n",
        "# Initialize the first two Fibonacci numbers\n",
        "a, b = 0, 1\n",
        "\n",
        "# Print the first 10 Fibonacci numbers\n",
        "for i in range(10):\n",
        "    print(a, end=\" \")  # Print current Fibonacci number\n",
        "    a, b = b, a + b  # Update values for the next iteration\n"
      ],
      "metadata": {
        "id": "4svYyKGiiEan",
        "colab": {
          "base_uri": "https://localhost:8080/"
        },
        "outputId": "28b6a7f6-c211-4d67-e630-5b972f5b7627"
      },
      "execution_count": 45,
      "outputs": [
        {
          "output_type": "stream",
          "name": "stdout",
          "text": [
            "0 1 1 2 3 5 8 13 21 34 "
          ]
        }
      ]
    },
    {
      "cell_type": "code",
      "source": [
        "# Question 4 : Add two 3x3 matrices using loop and print the result.\n",
        "\n",
        "matrix1 = [\n",
        "    [1, 2, 3],\n",
        "    [4, 5, 6],\n",
        "    [7, 8, 9]\n",
        "]\n",
        "matrix2 = [\n",
        "    [9, 8, 7],\n",
        "    [6, 5, 4],\n",
        "    [3, 2, 1]\n",
        "]\n",
        "\n",
        "result = [[matrix1[i][j] + matrix2[i][j] for i in range(3)] for j in range(3)] # list comprehension\n",
        "\n",
        "for row in result:\n",
        "    print(row)"
      ],
      "metadata": {
        "id": "khHxY2ItiUfP",
        "colab": {
          "base_uri": "https://localhost:8080/"
        },
        "outputId": "ab9f615a-7eb3-4162-8e8f-6be5166978cb"
      },
      "execution_count": 37,
      "outputs": [
        {
          "output_type": "stream",
          "name": "stdout",
          "text": [
            "[10, 10, 10]\n",
            "[10, 10, 10]\n",
            "[10, 10, 10]\n"
          ]
        }
      ]
    },
    {
      "cell_type": "code",
      "source": [
        "from os.path import split\n",
        "# Question 5 : Calculate the sum of digits of a given number.\n",
        "\n",
        "number = 12345\n",
        "str_num = map(int, str(number))\n",
        "sum_of_digits = sum(str_num)\n",
        "print(\"Sum of digits:\", sum_of_digits)\n"
      ],
      "metadata": {
        "id": "DzFfwGjDiw8I",
        "colab": {
          "base_uri": "https://localhost:8080/"
        },
        "outputId": "9f90a44b-1c62-4398-80c2-c90b21f2ac7a"
      },
      "execution_count": 3,
      "outputs": [
        {
          "output_type": "stream",
          "name": "stdout",
          "text": [
            "Sum of digits: 15\n"
          ]
        }
      ]
    },
    {
      "cell_type": "code",
      "source": [
        "number = 12345\n",
        "sum_of_digits = 0\n",
        "\n",
        "# Loop through each digit\n",
        "while number > 0:\n",
        "    sum_of_digits += number % 10  # Extract the last digit and add to sum\n",
        "    number //= 10  # Remove the last digit\n",
        "\n",
        "print(\"Sum of digits:\", sum_of_digits)"
      ],
      "metadata": {
        "colab": {
          "base_uri": "https://localhost:8080/"
        },
        "id": "lnMqIb96xoON",
        "outputId": "8842fd2a-a9e9-45dd-e84a-de0b211fde9e"
      },
      "execution_count": 4,
      "outputs": [
        {
          "output_type": "stream",
          "name": "stdout",
          "text": [
            "Sum of digits: 15\n"
          ]
        }
      ]
    },
    {
      "cell_type": "code",
      "source": [
        "# Question 6 : Print numbers from 1 to 50. For multiples of 3, print \"Fizz\" instead of the number,\n",
        "# and for multiples of 5, print \"Buzz\". For numbers that are multiples of both 3 and 5, print \"FizzBuzz\".\n",
        "\n",
        "for i in range(1, 51):\n",
        "  if i % 3 == 0 and i % 5 == 0:\n",
        "    print(\"FizzBuzz\", end = \" \")\n",
        "  elif i % 3 == 0:\n",
        "    print(\"Fizz\",end = \" \")\n",
        "  elif i % 5 == 0:\n",
        "    print(\"Buzz\",end =\" \")\n",
        "  else:\n",
        "    print(i, end = \" \")\n",
        ""
      ],
      "metadata": {
        "id": "Ud_klzjXi733",
        "colab": {
          "base_uri": "https://localhost:8080/"
        },
        "outputId": "5d344ca1-c66f-447b-c59e-38f815fe949b"
      },
      "execution_count": 10,
      "outputs": [
        {
          "output_type": "stream",
          "name": "stdout",
          "text": [
            "1 2 Fizz 4 Buzz Fizz 7 8 Fizz Buzz 11 Fizz 13 14 FizzBuzz 16 17 Fizz 19 Buzz Fizz 22 23 Fizz Buzz 26 Fizz 28 29 FizzBuzz 31 32 Fizz 34 Buzz Fizz 37 38 Fizz Buzz 41 Fizz 43 44 FizzBuzz 46 47 Fizz 49 Buzz "
          ]
        }
      ]
    },
    {
      "cell_type": "code",
      "source": [
        "# Question 7 : Check if a given string is a palindrome (reads the same forwards and backwards).\n",
        "\n",
        "string = \"madam\"\n",
        "\n",
        "if string == string[::-1]:\n",
        "  print(\"It's a palindrome\")\n",
        "else:\n",
        "  print(\"It's not a palindrome\")"
      ],
      "metadata": {
        "id": "ZYATuYZYjHgi",
        "colab": {
          "base_uri": "https://localhost:8080/"
        },
        "outputId": "15ae3f10-3c42-4584-c621-a258864d5672"
      },
      "execution_count": 11,
      "outputs": [
        {
          "output_type": "stream",
          "name": "stdout",
          "text": [
            "It's a palindrome\n"
          ]
        }
      ]
    }
  ]
}